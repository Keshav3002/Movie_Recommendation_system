{
 "cells": [
  {
   "cell_type": "code",
   "execution_count": 2,
   "id": "8ffc34d7",
   "metadata": {},
   "outputs": [
    {
     "name": "stdout",
     "output_type": "stream",
     "text": [
      "<class 'pandas.core.frame.DataFrame'>\n",
      "RangeIndex: 1000 entries, 0 to 999\n",
      "Data columns (total 11 columns):\n",
      " #   Column              Non-Null Count  Dtype  \n",
      "---  ------              --------------  -----  \n",
      " 0   Unnamed: 0          1000 non-null   int64  \n",
      " 1   Title               1000 non-null   object \n",
      " 2   Year of Release     1000 non-null   object \n",
      " 3   Watch Time          957 non-null    object \n",
      " 4   Genre               1000 non-null   object \n",
      " 5   Movie Rating        939 non-null    float64\n",
      " 6   Metascore of movie  905 non-null    float64\n",
      " 7   Director            1000 non-null   object \n",
      " 8   Cast                1000 non-null   object \n",
      " 9   Votes               939 non-null    object \n",
      " 10  Description         1000 non-null   object \n",
      "dtypes: float64(2), int64(1), object(8)\n",
      "memory usage: 86.1+ KB\n"
     ]
    },
    {
     "data": {
      "text/plain": [
       "(1000, 6723)"
      ]
     },
     "execution_count": 2,
     "metadata": {},
     "output_type": "execute_result"
    }
   ],
   "source": [
    "import pandas as pd #importing packages\n",
    "from sklearn.feature_extraction.text import TfidfVectorizer\n",
    "from sklearn.metrics.pairwise import linear_kernel\n",
    "import pickle\n",
    "\n",
    "\n",
    "\n",
    "data=pd.read_excel(\"C:\\\\Users\\\\kkesh\\\\Desktop\\\\movie data_new.xlsx\")#reading the database\n",
    "data.info()\n",
    "data.rename(columns={'Unnamed: 0': 'movie_id'}, inplace=True)#creating columns\n",
    "\n",
    "columns=['Cast','Director','Genre','Title','Description']#columns of the data\n",
    "\n",
    "\n",
    "data[columns].isnull().values.any()#no null values\n",
    "\n",
    "def get_important_features(data):#gets the features\n",
    "    important_features=[]\n",
    "    for i in range (0,data.shape[0]):\n",
    "        important_features.append(data['Title'][i]+' '+data['Director'][i]+' '+data['Genre'][i]+' '+data['Description'][i])#appends(adds) the features\n",
    "    return important_features\n",
    "\n",
    "\n",
    "#creating a column to hold the combined strings\n",
    "data['important_features']=get_important_features(data)\n",
    "\n",
    "\n",
    "tfidf = TfidfVectorizer(stop_words='english')\n",
    "#data['Description'] = data['Description'].fillna('')\n",
    "tfidf_matrix = tfidf.fit_transform(data['important_features'])\n",
    "tfidf_matrix.shape"
   ]
  },
  {
   "cell_type": "code",
   "execution_count": null,
   "id": "560955ca",
   "metadata": {},
   "outputs": [],
   "source": []
  }
 ],
 "metadata": {
  "kernelspec": {
   "display_name": "Python 3 (ipykernel)",
   "language": "python",
   "name": "python3"
  },
  "language_info": {
   "codemirror_mode": {
    "name": "ipython",
    "version": 3
   },
   "file_extension": ".py",
   "mimetype": "text/x-python",
   "name": "python",
   "nbconvert_exporter": "python",
   "pygments_lexer": "ipython3",
   "version": "3.9.7"
  }
 },
 "nbformat": 4,
 "nbformat_minor": 5
}
